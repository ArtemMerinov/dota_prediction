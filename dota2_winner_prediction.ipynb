{
 "cells": [
  {
   "cell_type": "code",
   "execution_count": 32,
   "metadata": {
    "collapsed": false,
    "scrolled": true
   },
   "outputs": [],
   "source": [
    "import pandas as pd\n",
    "import numpy as np\n",
    "import time \n",
    "import datetime\n",
    "import matplotlib.pyplot as plt\n",
    "%matplotlib inline"
   ]
  },
  {
   "cell_type": "code",
   "execution_count": 33,
   "metadata": {
    "collapsed": true
   },
   "outputs": [],
   "source": [
    "from sklearn.cross_validation import KFold, StratifiedKFold, cross_val_score, train_test_split\n",
    "from sklearn.ensemble import GradientBoostingClassifier\n",
    "from sklearn.grid_search import GridSearchCV\n",
    "from sklearn.preprocessing import StandardScaler, MinMaxScaler \n",
    "from sklearn.linear_model import LogisticRegression\n",
    "from sklearn.metrics import roc_auc_score\n",
    "from sklearn.svm import SVC, LinearSVC\n",
    "from sklearn.ensemble import RandomForestClassifier\n",
    "from sklearn.neighbors import KNeighborsClassifier"
   ]
  },
  {
   "cell_type": "markdown",
   "metadata": {},
   "source": [
    "## 1. Load data"
   ]
  },
  {
   "cell_type": "code",
   "execution_count": 34,
   "metadata": {
    "collapsed": false
   },
   "outputs": [],
   "source": [
    "df = pd.read_csv('features.csv')\n",
    "df_test = pd.read_csv('features_test.csv')"
   ]
  },
  {
   "cell_type": "code",
   "execution_count": 35,
   "metadata": {
    "collapsed": false,
    "scrolled": true
   },
   "outputs": [
    {
     "name": "stdout",
     "output_type": "stream",
     "text": [
      "shape of data (97230, 109)\n",
      "shape of test data (17177, 103)\n"
     ]
    }
   ],
   "source": [
    "print('shape of data', df.shape)\n",
    "print('shape of test data', df_test.shape)"
   ]
  },
  {
   "cell_type": "markdown",
   "metadata": {},
   "source": [
    "Выделим целевую переменную"
   ]
  },
  {
   "cell_type": "code",
   "execution_count": 36,
   "metadata": {
    "collapsed": false
   },
   "outputs": [],
   "source": [
    "y = df['radiant_win']"
   ]
  },
  {
   "cell_type": "markdown",
   "metadata": {},
   "source": [
    "## 2. Preprocessing"
   ]
  },
  {
   "cell_type": "markdown",
   "metadata": {},
   "source": [
    "#### Удаление признаков из выбоки\n",
    "Которые не влияют на выигрыш"
   ]
  },
  {
   "cell_type": "code",
   "execution_count": 6,
   "metadata": {
    "collapsed": false
   },
   "outputs": [],
   "source": [
    "del df['start_time']\n",
    "del df['match_id']\n",
    "del df_test['start_time']\n",
    "del df_test['match_id']"
   ]
  },
  {
   "cell_type": "markdown",
   "metadata": {},
   "source": [
    "Которые отсутствуют в тестовых данных\n"
   ]
  },
  {
   "cell_type": "code",
   "execution_count": 7,
   "metadata": {
    "collapsed": false
   },
   "outputs": [
    {
     "data": {
      "text/plain": [
       "Index(['lobby_type', 'r1_hero', 'r1_level', 'r1_xp', 'r1_gold', 'r1_lh',\n",
       "       'r1_kills', 'r1_deaths', 'r1_items', 'r2_hero',\n",
       "       ...\n",
       "       'dire_boots_count', 'dire_ward_observer_count',\n",
       "       'dire_ward_sentry_count', 'dire_first_ward_time', 'duration',\n",
       "       'radiant_win', 'tower_status_radiant', 'tower_status_dire',\n",
       "       'barracks_status_radiant', 'barracks_status_dire'],\n",
       "      dtype='object', length=107)"
      ]
     },
     "execution_count": 7,
     "metadata": {},
     "output_type": "execute_result"
    }
   ],
   "source": [
    "df.columns"
   ]
  },
  {
   "cell_type": "code",
   "execution_count": 8,
   "metadata": {
    "collapsed": false
   },
   "outputs": [],
   "source": [
    "df = df.drop(['duration', 'tower_status_radiant', 'tower_status_dire', \n",
    "              'barracks_status_radiant', 'barracks_status_dire', \n",
    "              'radiant_win'], axis=1)"
   ]
  },
  {
   "cell_type": "markdown",
   "metadata": {},
   "source": [
    "#### Работаем с NaN признаками\n",
    "Вывод NaN призаков"
   ]
  },
  {
   "cell_type": "code",
   "execution_count": 9,
   "metadata": {
    "collapsed": false
   },
   "outputs": [],
   "source": [
    "features_nan = []\n",
    "for column in df.columns:\n",
    "    if df[column].count() != len(df):\n",
    "        features_nan.append(column)"
   ]
  },
  {
   "cell_type": "code",
   "execution_count": 10,
   "metadata": {
    "collapsed": false,
    "scrolled": false
   },
   "outputs": [
    {
     "data": {
      "text/plain": [
       "['first_blood_time',\n",
       " 'first_blood_team',\n",
       " 'first_blood_player1',\n",
       " 'first_blood_player2',\n",
       " 'radiant_bottle_time',\n",
       " 'radiant_courier_time',\n",
       " 'radiant_flying_courier_time',\n",
       " 'radiant_first_ward_time',\n",
       " 'dire_bottle_time',\n",
       " 'dire_courier_time',\n",
       " 'dire_flying_courier_time',\n",
       " 'dire_first_ward_time']"
      ]
     },
     "execution_count": 10,
     "metadata": {},
     "output_type": "execute_result"
    }
   ],
   "source": [
    "features_nan"
   ]
  },
  {
   "cell_type": "markdown",
   "metadata": {},
   "source": [
    "**Пояснение:** если не было убийства, то нет и команды (соответсвенно, игроков), его совершившего. Остальные признаки означают отсутсвие покупки bottle, courier, flying_courier и установки первого \"наблюдателя\" за первые 5 минут матча."
   ]
  },
  {
   "cell_type": "markdown",
   "metadata": {},
   "source": [
    "Заполним все значения NaN одним из значений: **0**, **1**, **median** или **mean**:\n",
    "1. **'first_blood_time'** - median\n",
    "2. **'first_blood_team'** - 1, если в этой команде больше убийств, 0 - в других случаях\n",
    "3. **'first_blood_player1'** - median\n",
    "4. **'first_blood_player2'** - median\n",
    "5. **'radiant_bottle_time'** - median\n",
    "6. **'radiant_courier_time'** - median\n",
    "7. **'radiant_flying_courier_time'** - median\n",
    "8. **'radiant_first_ward_time'** - mean\n",
    "9. **'dire_bottle_time'** - median\n",
    "10. **'dire_courier_time'** - median\n",
    "11. **'dire_flying_courier_time'** - median\n",
    "12. **'dire_first_ward_time'** - mean"
   ]
  },
  {
   "cell_type": "code",
   "execution_count": 11,
   "metadata": {
    "collapsed": false
   },
   "outputs": [],
   "source": [
    "# выводим list кол-ва убийств обеих команд\n",
    "# для сравнения числа убийств Radiand и Dire\n",
    "def get_kills(df):\n",
    "    d_kills = []\n",
    "    r_kills = []\n",
    "    for i in range(df.shape[0]):\n",
    "        r_kills.append(sum(np.array((df.r1_kills[i], df.r2_kills[i], df.r3_kills[i], \n",
    "                                     df.r4_kills[i], df.r5_kills[i]))))\n",
    "        d_kills.append(sum(np.array((df.d1_kills[i], df.d2_kills[i], df.d3_kills[i], \n",
    "                                     df.d4_kills[i], df.d5_kills[i]))))\n",
    "    kills = list(zip(r_kills, d_kills))\n",
    "    return kills\n",
    "\n",
    "# выводим list опыта обеих команд\n",
    "# для сравнения опыта Radiand и Dire\n",
    "def get_xp(df):\n",
    "    d_xp = []\n",
    "    r_xp = []\n",
    "    for i in range(df.shape[0]):\n",
    "        r_xp.append(sum(np.array((df.r1_xp[i], df.r2_xp[i], df.r3_xp[i], \n",
    "                                  df.r4_xp[i], df.r5_xp[i]))))\n",
    "        d_xp.append(sum(np.array((df.d1_xp[i], df.d2_xp[i], df.d3_xp[i], \n",
    "                                  df.d4_xp[i], df.d5_xp[i]))))\n",
    "    xp = list(zip(r_xp, d_xp))\n",
    "    return xp"
   ]
  },
  {
   "cell_type": "code",
   "execution_count": 12,
   "metadata": {
    "collapsed": true
   },
   "outputs": [],
   "source": [
    "kills = get_kills(df)"
   ]
  },
  {
   "cell_type": "code",
   "execution_count": 13,
   "metadata": {
    "collapsed": false
   },
   "outputs": [],
   "source": [
    "def change_nan(df):\n",
    "    # medians\n",
    "    df['first_blood_time'] = df['first_blood_time'].fillna(np.median(df[column].dropna()))\n",
    "    df['first_blood_player1'] = df['first_blood_player1'].fillna(np.median(df[column].dropna()))\n",
    "    df['first_blood_player2'] = df['first_blood_player2'].fillna(np.median(df[column].dropna()))\n",
    "    df['radiant_bottle_time'] = df['radiant_bottle_time'].fillna(np.median(df[column].dropna()))\n",
    "    df['radiant_courier_time'] = df['radiant_courier_time'].fillna(np.median(df[column].dropna()))\n",
    "    df['radiant_flying_courier_time'] = df['radiant_flying_courier_time'].fillna(np.median(df[column].dropna()))\n",
    "    df['dire_bottle_time'] = df['dire_bottle_time'].fillna(np.median(df[column].dropna()))\n",
    "    df['dire_courier_time'] = df['dire_courier_time'].fillna(np.median(df[column].dropna()))\n",
    "    df['dire_flying_courier_time'] = df['dire_flying_courier_time'].fillna(np.median(df[column].dropna()))\n",
    "    # means\n",
    "    df['radiant_first_ward_time'] = df['radiant_first_ward_time'].fillna(np.mean(df[column].dropna()))\n",
    "    df['dire_first_ward_time'] = df['dire_first_ward_time'].fillna(np.mean(df[column].dropna())) \n",
    "    # 0 or 1\n",
    "    for i in range(df.shape[0]):\n",
    "        if kills[i][0] > kills[i][1]: # убийств Radiant больше\n",
    "            df['first_blood_team'] = df['first_blood_team'].fillna(value=1) # пишем 1\n",
    "        else: \n",
    "            df['first_blood_team'] = df['first_blood_team'].fillna(value=0) # пишем 0"
   ]
  },
  {
   "cell_type": "code",
   "execution_count": 14,
   "metadata": {
    "collapsed": false
   },
   "outputs": [],
   "source": [
    "change_nan(df)"
   ]
  },
  {
   "cell_type": "markdown",
   "metadata": {},
   "source": [
    "Добавление новых признаков (?)"
   ]
  },
  {
   "cell_type": "code",
   "execution_count": null,
   "metadata": {
    "collapsed": true
   },
   "outputs": [],
   "source": []
  },
  {
   "cell_type": "markdown",
   "metadata": {},
   "source": [
    "## 3. Classification pipeline"
   ]
  },
  {
   "cell_type": "code",
   "execution_count": 15,
   "metadata": {
    "collapsed": false
   },
   "outputs": [],
   "source": [
    "X = df"
   ]
  },
  {
   "cell_type": "markdown",
   "metadata": {},
   "source": [
    "Разделим выборку"
   ]
  },
  {
   "cell_type": "code",
   "execution_count": 16,
   "metadata": {
    "collapsed": true
   },
   "outputs": [],
   "source": [
    "X_train, X_test, y_train, y_test = train_test_split(X, y, test_size = 0.3)"
   ]
  },
  {
   "cell_type": "markdown",
   "metadata": {},
   "source": [
    "**StratifiedKFold**: зафиксируем генератор разбиений для кросс-валидации c n_folds=5:"
   ]
  },
  {
   "cell_type": "code",
   "execution_count": 17,
   "metadata": {
    "collapsed": false
   },
   "outputs": [],
   "source": [
    "skf = StratifiedKFold(y_train, n_folds=5, shuffle=True, random_state=0)\n",
    "# kf = KFold(n=len(y_train), n_folds=5, shuffle=True, random_state=0)"
   ]
  },
  {
   "cell_type": "markdown",
   "metadata": {},
   "source": [
    "## 3.1 Gradient Boosting \"head-on\""
   ]
  },
  {
   "cell_type": "code",
   "execution_count": null,
   "metadata": {
    "collapsed": false
   },
   "outputs": [],
   "source": [
    "# clf_gb = GradientBoostingClassifier(random_state=0)\n",
    "# for n in [10, 20, 30]:\n",
    "#     starttime = datetime.datetime.now()\n",
    "#     clf_gb.n_estimators = n\n",
    "#     scores = cross_val_score(clf_gb, X_train.values, y_train.values, cv=skf, scoring='roc_auc')\n",
    "#     print(n, 'estimators')\n",
    "#     print('time:', datetime.datetime.now() - starttime)    \n",
    "#     print('ROC AUC:', scores.mean())"
   ]
  },
  {
   "cell_type": "markdown",
   "metadata": {},
   "source": [
    "Можно получить ROC AUC больше, если использовать > 30 деревьев. Для ускорения процесса обучения можно уменьшить глубину деревьев (по умолчанию 3)."
   ]
  },
  {
   "cell_type": "code",
   "execution_count": null,
   "metadata": {
    "collapsed": false
   },
   "outputs": [],
   "source": [
    "# clf_gb.n_estimators = 40\n",
    "# starttime = datetime.datetime.now()\n",
    "# scores = cross_val_score(clf_gb, X_train, y_train, cv=skf, scoring='roc_auc')\n",
    "# print(n, 'estimators')\n",
    "# print('time:', datetime.datetime.now() - starttime)   \n",
    "# print('ROC AUC:', scores.mean())"
   ]
  },
  {
   "cell_type": "markdown",
   "metadata": {},
   "source": [
    "## 3.2 Logistic regression"
   ]
  },
  {
   "cell_type": "markdown",
   "metadata": {},
   "source": [
    "Для начала выполним масштабирование признаков (**StandardScaler** or MinMaxScaler?)"
   ]
  },
  {
   "cell_type": "code",
   "execution_count": 18,
   "metadata": {
    "collapsed": false
   },
   "outputs": [],
   "source": [
    "SS = StandardScaler()\n",
    "MMS = MinMaxScaler()\n",
    "\n",
    "df_scaled = SS.fit_transform(df)\n",
    "X_scaled = pd.DataFrame(SS.fit_transform(X))"
   ]
  },
  {
   "cell_type": "markdown",
   "metadata": {},
   "source": [
    "Разделим замаштабированные данные "
   ]
  },
  {
   "cell_type": "code",
   "execution_count": 19,
   "metadata": {
    "collapsed": false
   },
   "outputs": [],
   "source": [
    "X_train, X_test, y_train, y_test = train_test_split(\n",
    "    X_scaled, y, test_size=0.3, random_state=0)"
   ]
  },
  {
   "cell_type": "markdown",
   "metadata": {},
   "source": [
    "Проведем grid search по коэффициентам регуляризации C. "
   ]
  },
  {
   "cell_type": "code",
   "execution_count": 20,
   "metadata": {
    "collapsed": false
   },
   "outputs": [
    {
     "name": "stdout",
     "output_type": "stream",
     "text": [
      "the best parameter C: 0.01\n",
      "ROC AUC for train 0.718080283786\n",
      "ROC AUC for test 0.716533155897\n"
     ]
    }
   ],
   "source": [
    "grid_lr = {'C': np.power(10.0, np.arange(-3, 3))}\n",
    "clf_lr = LogisticRegression(random_state=0)\n",
    "\n",
    "clf_lr_grid = GridSearchCV(clf_lr, grid_lr, cv=skf, scoring='roc_auc')\n",
    "clf_lr_grid.fit(X_train, y_train)\n",
    "\n",
    "y_train_score_lr = clf_lr_grid.decision_function(X_train)\n",
    "y_test_score_lr = clf_lr_grid.decision_function(X_test)\n",
    "\n",
    "print('the best parameter C:', clf_lr_grid.best_params_['C'])\n",
    "print('ROC AUC for train', roc_auc_score(y_train, y_train_score_lr))\n",
    "print('ROC AUC for test', roc_auc_score(y_test, y_test_score_lr))"
   ]
  },
  {
   "cell_type": "markdown",
   "metadata": {},
   "source": [
    "predict_proba"
   ]
  },
  {
   "cell_type": "code",
   "execution_count": null,
   "metadata": {
    "collapsed": true
   },
   "outputs": [],
   "source": [
    "y_train_score_lr = clf_lr_grid.decision_function(X_train)\n",
    "y_test_score_lr = clf_lr_grid.decision_function(X_test)\n",
    "\n",
    "print('the best parameter C:', clf_lr_grid.best_params_['C'])\n",
    "print('ROC AUC for train', roc_auc_score(y_train, y_train_score_lr))\n",
    "print('ROC AUC for test', roc_auc_score(y_test, y_test_score_lr))"
   ]
  },
  {
   "cell_type": "markdown",
   "metadata": {},
   "source": [
    "###  Categorical features"
   ]
  },
  {
   "cell_type": "markdown",
   "metadata": {},
   "source": [
    "Исключим из датафрейма категориальные признаки и посмотрим, как меняется  ROC AUC"
   ]
  },
  {
   "cell_type": "code",
   "execution_count": 21,
   "metadata": {
    "collapsed": false
   },
   "outputs": [],
   "source": [
    "df_scaled = pd.DataFrame(df_scaled, columns = df.columns)\n",
    "df_scaled_no_cat = df_scaled.drop(['lobby_type', \n",
    "                'r1_hero', 'r2_hero', 'r3_hero', 'r4_hero', 'r5_hero', \n",
    "                'd1_hero', 'd2_hero', 'd3_hero', 'd4_hero', 'd5_hero'],\n",
    "                 axis=1)"
   ]
  },
  {
   "cell_type": "markdown",
   "metadata": {},
   "source": [
    "Исключим из выборки целевую переменную"
   ]
  },
  {
   "cell_type": "code",
   "execution_count": 22,
   "metadata": {
    "collapsed": false
   },
   "outputs": [
    {
     "data": {
      "text/html": [
       "<div>\n",
       "<table border=\"1\" class=\"dataframe\">\n",
       "  <thead>\n",
       "    <tr style=\"text-align: right;\">\n",
       "      <th></th>\n",
       "      <th>r1_level</th>\n",
       "      <th>r1_xp</th>\n",
       "      <th>r1_gold</th>\n",
       "      <th>r1_lh</th>\n",
       "      <th>r1_kills</th>\n",
       "      <th>r1_deaths</th>\n",
       "      <th>r1_items</th>\n",
       "      <th>r2_level</th>\n",
       "      <th>r2_xp</th>\n",
       "      <th>r2_gold</th>\n",
       "      <th>...</th>\n",
       "      <th>radiant_ward_sentry_count</th>\n",
       "      <th>radiant_first_ward_time</th>\n",
       "      <th>dire_bottle_time</th>\n",
       "      <th>dire_courier_time</th>\n",
       "      <th>dire_flying_courier_time</th>\n",
       "      <th>dire_tpscroll_count</th>\n",
       "      <th>dire_boots_count</th>\n",
       "      <th>dire_ward_observer_count</th>\n",
       "      <th>dire_ward_sentry_count</th>\n",
       "      <th>dire_first_ward_time</th>\n",
       "    </tr>\n",
       "  </thead>\n",
       "  <tbody>\n",
       "    <tr>\n",
       "      <th>0</th>\n",
       "      <td>1.400808</td>\n",
       "      <td>1.525972</td>\n",
       "      <td>0.734957</td>\n",
       "      <td>0.969743</td>\n",
       "      <td>-0.537757</td>\n",
       "      <td>-0.578083</td>\n",
       "      <td>-0.509023</td>\n",
       "      <td>-0.332256</td>\n",
       "      <td>-0.625222</td>\n",
       "      <td>-0.255162</td>\n",
       "      <td>...</td>\n",
       "      <td>-0.987486</td>\n",
       "      <td>1.070083</td>\n",
       "      <td>-0.005601</td>\n",
       "      <td>-0.263972</td>\n",
       "      <td>0.640074</td>\n",
       "      <td>0.018054</td>\n",
       "      <td>0.562864</td>\n",
       "      <td>-0.551154</td>\n",
       "      <td>1.846004</td>\n",
       "      <td>-1.118582</td>\n",
       "    </tr>\n",
       "    <tr>\n",
       "      <th>1</th>\n",
       "      <td>0.501314</td>\n",
       "      <td>-0.080139</td>\n",
       "      <td>-0.247570</td>\n",
       "      <td>-0.246859</td>\n",
       "      <td>-0.537757</td>\n",
       "      <td>1.017574</td>\n",
       "      <td>1.492930</td>\n",
       "      <td>0.578881</td>\n",
       "      <td>0.732454</td>\n",
       "      <td>-0.250795</td>\n",
       "      <td>...</td>\n",
       "      <td>-0.987486</td>\n",
       "      <td>-0.335357</td>\n",
       "      <td>0.583775</td>\n",
       "      <td>-0.263972</td>\n",
       "      <td>0.395694</td>\n",
       "      <td>1.066668</td>\n",
       "      <td>0.562864</td>\n",
       "      <td>0.678170</td>\n",
       "      <td>0.437788</td>\n",
       "      <td>0.047174</td>\n",
       "    </tr>\n",
       "    <tr>\n",
       "      <th>2</th>\n",
       "      <td>0.501314</td>\n",
       "      <td>0.151070</td>\n",
       "      <td>0.263085</td>\n",
       "      <td>1.190944</td>\n",
       "      <td>-0.537757</td>\n",
       "      <td>-0.578083</td>\n",
       "      <td>1.492930</td>\n",
       "      <td>-0.332256</td>\n",
       "      <td>0.224676</td>\n",
       "      <td>-0.726779</td>\n",
       "      <td>...</td>\n",
       "      <td>0.391203</td>\n",
       "      <td>-0.820873</td>\n",
       "      <td>-0.748729</td>\n",
       "      <td>0.170355</td>\n",
       "      <td>0.640074</td>\n",
       "      <td>0.018054</td>\n",
       "      <td>0.562864</td>\n",
       "      <td>0.678170</td>\n",
       "      <td>0.437788</td>\n",
       "      <td>0.493634</td>\n",
       "    </tr>\n",
       "    <tr>\n",
       "      <th>3</th>\n",
       "      <td>0.501314</td>\n",
       "      <td>0.962950</td>\n",
       "      <td>-0.198013</td>\n",
       "      <td>0.306142</td>\n",
       "      <td>-0.537757</td>\n",
       "      <td>-0.578083</td>\n",
       "      <td>-1.309804</td>\n",
       "      <td>-1.243393</td>\n",
       "      <td>-1.170813</td>\n",
       "      <td>-1.242065</td>\n",
       "      <td>...</td>\n",
       "      <td>-0.987486</td>\n",
       "      <td>-0.590892</td>\n",
       "      <td>0.263462</td>\n",
       "      <td>-0.015785</td>\n",
       "      <td>0.292303</td>\n",
       "      <td>-1.554868</td>\n",
       "      <td>0.562864</td>\n",
       "      <td>-0.551154</td>\n",
       "      <td>-0.970428</td>\n",
       "      <td>0.840880</td>\n",
       "    </tr>\n",
       "    <tr>\n",
       "      <th>4</th>\n",
       "      <td>0.501314</td>\n",
       "      <td>0.348745</td>\n",
       "      <td>-0.124754</td>\n",
       "      <td>-0.357459</td>\n",
       "      <td>0.968527</td>\n",
       "      <td>-0.578083</td>\n",
       "      <td>-0.108632</td>\n",
       "      <td>-1.243393</td>\n",
       "      <td>-1.008757</td>\n",
       "      <td>-1.213680</td>\n",
       "      <td>...</td>\n",
       "      <td>-0.987486</td>\n",
       "      <td>1.351171</td>\n",
       "      <td>1.006589</td>\n",
       "      <td>-0.015785</td>\n",
       "      <td>0.677671</td>\n",
       "      <td>1.590976</td>\n",
       "      <td>-0.302485</td>\n",
       "      <td>0.678170</td>\n",
       "      <td>-0.970428</td>\n",
       "      <td>-0.225663</td>\n",
       "    </tr>\n",
       "  </tbody>\n",
       "</table>\n",
       "<p>5 rows × 90 columns</p>\n",
       "</div>"
      ],
      "text/plain": [
       "   r1_level     r1_xp   r1_gold     r1_lh  r1_kills  r1_deaths  r1_items  \\\n",
       "0  1.400808  1.525972  0.734957  0.969743 -0.537757  -0.578083 -0.509023   \n",
       "1  0.501314 -0.080139 -0.247570 -0.246859 -0.537757   1.017574  1.492930   \n",
       "2  0.501314  0.151070  0.263085  1.190944 -0.537757  -0.578083  1.492930   \n",
       "3  0.501314  0.962950 -0.198013  0.306142 -0.537757  -0.578083 -1.309804   \n",
       "4  0.501314  0.348745 -0.124754 -0.357459  0.968527  -0.578083 -0.108632   \n",
       "\n",
       "   r2_level     r2_xp   r2_gold          ...           \\\n",
       "0 -0.332256 -0.625222 -0.255162          ...            \n",
       "1  0.578881  0.732454 -0.250795          ...            \n",
       "2 -0.332256  0.224676 -0.726779          ...            \n",
       "3 -1.243393 -1.170813 -1.242065          ...            \n",
       "4 -1.243393 -1.008757 -1.213680          ...            \n",
       "\n",
       "   radiant_ward_sentry_count  radiant_first_ward_time  dire_bottle_time  \\\n",
       "0                  -0.987486                 1.070083         -0.005601   \n",
       "1                  -0.987486                -0.335357          0.583775   \n",
       "2                   0.391203                -0.820873         -0.748729   \n",
       "3                  -0.987486                -0.590892          0.263462   \n",
       "4                  -0.987486                 1.351171          1.006589   \n",
       "\n",
       "   dire_courier_time  dire_flying_courier_time  dire_tpscroll_count  \\\n",
       "0          -0.263972                  0.640074             0.018054   \n",
       "1          -0.263972                  0.395694             1.066668   \n",
       "2           0.170355                  0.640074             0.018054   \n",
       "3          -0.015785                  0.292303            -1.554868   \n",
       "4          -0.015785                  0.677671             1.590976   \n",
       "\n",
       "   dire_boots_count  dire_ward_observer_count  dire_ward_sentry_count  \\\n",
       "0          0.562864                 -0.551154                1.846004   \n",
       "1          0.562864                  0.678170                0.437788   \n",
       "2          0.562864                  0.678170                0.437788   \n",
       "3          0.562864                 -0.551154               -0.970428   \n",
       "4         -0.302485                  0.678170               -0.970428   \n",
       "\n",
       "   dire_first_ward_time  \n",
       "0             -1.118582  \n",
       "1              0.047174  \n",
       "2              0.493634  \n",
       "3              0.840880  \n",
       "4             -0.225663  \n",
       "\n",
       "[5 rows x 90 columns]"
      ]
     },
     "execution_count": 22,
     "metadata": {},
     "output_type": "execute_result"
    }
   ],
   "source": [
    "X_no_cat = df_scaled_no_cat\n",
    "X_no_cat.head()"
   ]
  },
  {
   "cell_type": "markdown",
   "metadata": {},
   "source": [
    "Повторим обучениe на данных без категориальных признаков"
   ]
  },
  {
   "cell_type": "code",
   "execution_count": 23,
   "metadata": {
    "collapsed": false
   },
   "outputs": [
    {
     "name": "stdout",
     "output_type": "stream",
     "text": [
      "the best parameter C: 0.01\n",
      "ROC AUC for train 0.717865324779\n",
      "ROC AUC for test 0.716677625768\n"
     ]
    }
   ],
   "source": [
    "X_train_no_cat, X_test_no_cat, y_train_no_cat, y_test_no_cat = train_test_split(\n",
    "    X_no_cat, y, test_size=0.3, random_state=0)\n",
    "clf_lr_grid.fit(X_train_no_cat, y_train_no_cat)\n",
    "\n",
    "y_train_score_lr = clf_lr_grid.decision_function(X_train_no_cat)\n",
    "y_test_score_lr = clf_lr_grid.decision_function(X_test_no_cat)\n",
    "\n",
    "print('the best parameter C:', clf_lr_grid.best_params_['C'])\n",
    "print('ROC AUC for train', roc_auc_score(y_train_no_cat, y_train_score_lr))\n",
    "print('ROC AUC for test', roc_auc_score(y_test_no_cat, y_test_score_lr))"
   ]
  },
  {
   "cell_type": "markdown",
   "metadata": {
    "collapsed": true
   },
   "source": [
    "Как и следовало ожидать, значение ROC AUC практически не изменилось, т.е категориальные признаки не дают дополнительной информации о победителе (номера героев не связаны с характеристиками героев)."
   ]
  },
  {
   "cell_type": "markdown",
   "metadata": {},
   "source": [
    "### Bag of words"
   ]
  },
  {
   "cell_type": "markdown",
   "metadata": {},
   "source": [
    "Лист категориальных признаков (герои), нуждающихся в представлении bag_of_words"
   ]
  },
  {
   "cell_type": "code",
   "execution_count": 24,
   "metadata": {
    "collapsed": false
   },
   "outputs": [],
   "source": [
    "df_heroes = df[['r1_hero', 'r2_hero', 'r3_hero', 'r4_hero', 'r5_hero', \n",
    "                'd1_hero', 'd2_hero', 'd3_hero', 'd4_hero', 'd5_hero']]\n",
    "\n",
    "heroes = X[df_heroes.columns].stack()"
   ]
  },
  {
   "cell_type": "markdown",
   "metadata": {},
   "source": [
    "Создадим **\"мешок слов\"** для героев и добавим его к отмасштабированным данным. Сформируем N признаков, при этом:\n",
    "1. i-й будет равен нулю, если i-й герой не участвовал в матче; \n",
    "2. единице, если i-й герой играл за команду Radiant; \n",
    "3. минус единице, если i-й герой играл за команду Dire."
   ]
  },
  {
   "cell_type": "code",
   "execution_count": 25,
   "metadata": {
    "collapsed": false
   },
   "outputs": [],
   "source": [
    "# в качестве аргументов будем подавать давафрейм и лист, \n",
    "# нуждающийся в представлении bag_of_words\n",
    "def bag_of_words(df, heroes):\n",
    "    n = heroes.max() # кол-во различных идентификаторов героев (n = 112)\n",
    "        \n",
    "    X_pick = np.zeros((len(df), n))\n",
    "    for i, match_id in enumerate(df.index):\n",
    "        for p in range(5):\n",
    "            X_pick[i, df.ix[match_id, 'r%d_hero' % (p+1)]-1] = 1\n",
    "            X_pick[i, df.ix[match_id, 'd%d_hero' % (p+1)]-1] = -1\n",
    "\n",
    "    X_pick_df = pd.DataFrame(X_pick)\n",
    "    X_pick_df.columns = range(1, 113)\n",
    "    cols = [col for col in X_pick_df.columns if col in heroes.unique()]\n",
    "    \n",
    "    X_pick_df = X_pick_df[cols]\n",
    "    return X_pick_df\n"
   ]
  },
  {
   "cell_type": "code",
   "execution_count": 26,
   "metadata": {
    "collapsed": false
   },
   "outputs": [],
   "source": [
    "# bag_of_words(df, heroes)[:3]"
   ]
  },
  {
   "cell_type": "code",
   "execution_count": 27,
   "metadata": {
    "collapsed": true
   },
   "outputs": [],
   "source": [
    "X_pick_df = bag_of_words(df, heroes) "
   ]
  },
  {
   "cell_type": "markdown",
   "metadata": {},
   "source": [
    "Конкатинация"
   ]
  },
  {
   "cell_type": "code",
   "execution_count": 28,
   "metadata": {
    "collapsed": false
   },
   "outputs": [],
   "source": [
    "X_fin = pd.concat([X_no_cat, X_pick_df], axis = 1)"
   ]
  },
  {
   "cell_type": "markdown",
   "metadata": {},
   "source": [
    "Разбиение на train и test"
   ]
  },
  {
   "cell_type": "code",
   "execution_count": 29,
   "metadata": {
    "collapsed": true
   },
   "outputs": [],
   "source": [
    "X_train, X_test, y_train, y_test = train_test_split(\n",
    "    X_fin, y, test_size=0.3, random_state=0)"
   ]
  },
  {
   "cell_type": "code",
   "execution_count": 30,
   "metadata": {
    "collapsed": false
   },
   "outputs": [
    {
     "name": "stdout",
     "output_type": "stream",
     "text": [
      "the best parameter C: 0.1\n",
      "ROC AUC for train 0.755165194278\n",
      "ROC AUC for test 0.751048310798\n"
     ]
    }
   ],
   "source": [
    "clf_lr_grid.fit(X_train, y_train)\n",
    "\n",
    "y_train_score_lr = clf_lr_grid.decision_function(X_train)\n",
    "y_test_score_lr = clf_lr_grid.decision_function(X_test)\n",
    "\n",
    "print('the best parameter C:', clf_lr_grid.best_params_['C'])\n",
    "print('ROC AUC for train', roc_auc_score(y_train, y_train_score_lr))\n",
    "print('ROC AUC for test', roc_auc_score(y_test, y_test_score_lr))"
   ]
  },
  {
   "cell_type": "markdown",
   "metadata": {},
   "source": [
    "## 3.3 k-Neighbours"
   ]
  },
  {
   "cell_type": "code",
   "execution_count": 31,
   "metadata": {
    "collapsed": false
   },
   "outputs": [
    {
     "name": "stdout",
     "output_type": "stream",
     "text": [
      "0.62260327185\n"
     ]
    }
   ],
   "source": [
    "knn = KNeighborsClassifier(n_neighbors=50)\n",
    "scores = cross_val_score(knn, X_train, y_train, cv=skf).mean()\n",
    "print(scores)"
   ]
  },
  {
   "cell_type": "code",
   "execution_count": null,
   "metadata": {
    "collapsed": true
   },
   "outputs": [],
   "source": []
  },
  {
   "cell_type": "markdown",
   "metadata": {
    "collapsed": true
   },
   "source": [
    "## 3.4 LinearSVC"
   ]
  },
  {
   "cell_type": "markdown",
   "metadata": {},
   "source": [
    "С grid search"
   ]
  },
  {
   "cell_type": "code",
   "execution_count": 44,
   "metadata": {
    "collapsed": true
   },
   "outputs": [
    {
     "data": {
      "text/plain": [
       "GridSearchCV(cv=sklearn.cross_validation.StratifiedKFold(labels=[0 0 ..., 0 0], n_folds=5, shuffle=True, random_state=0),\n",
       "       error_score='raise',\n",
       "       estimator=LinearSVC(C=1.0, class_weight=None, dual=True, fit_intercept=True,\n",
       "     intercept_scaling=1, loss='squared_hinge', max_iter=1000,\n",
       "     multi_class='ovr', penalty='l2', random_state=0, tol=0.0001,\n",
       "     verbose=0),\n",
       "       fit_params={}, iid=True, n_jobs=4,\n",
       "       param_grid={'C': array([  1.00000e-04,   1.00000e-03,   1.00000e-02,   1.00000e-01,\n",
       "         1.00000e+00,   1.00000e+01,   1.00000e+02])},\n",
       "       pre_dispatch='2*n_jobs', refit=True, scoring='roc_auc', verbose=0)"
      ]
     },
     "execution_count": 44,
     "metadata": {},
     "output_type": "execute_result"
    }
   ],
   "source": [
    "grid_lsvc = {'C': np.logspace(-4, 2, 7)}\n",
    "clf_lsvc = LinearSVC(random_state=0)\n",
    "\n",
    "clf_lsvc_grid = GridSearchCV(clf_lsvc, grid_lsvc, cv=skf, scoring='roc_auc', n_jobs=4)\n",
    "clf_lsvc_grid.fit(X_train, y_train)"
   ]
  },
  {
   "cell_type": "code",
   "execution_count": 46,
   "metadata": {
    "collapsed": false
   },
   "outputs": [
    {
     "name": "stdout",
     "output_type": "stream",
     "text": [
      "the best parameter C: 0.01\n",
      "ROC AUC for train 0.755154861963\n",
      "ROC AUC for test 0.751053100401\n"
     ]
    }
   ],
   "source": [
    "y_train_score_lsvc = clf_lsvc_grid.decision_function(X_train)\n",
    "y_test_score_lsvc = clf_lsvc_grid.decision_function(X_test)\n",
    "\n",
    "print('the best parameter C:', clf_lsvc_grid.best_params_['C'])\n",
    "print('ROC AUC for train', roc_auc_score(y_train, y_train_score_lsvc))\n",
    "print('ROC AUC for test', roc_auc_score(y_test, y_test_score_lsvc))"
   ]
  },
  {
   "cell_type": "markdown",
   "metadata": {
    "collapsed": true
   },
   "source": [
    "Без grid search"
   ]
  },
  {
   "cell_type": "code",
   "execution_count": 49,
   "metadata": {
    "collapsed": false
   },
   "outputs": [
    {
     "name": "stdout",
     "output_type": "stream",
     "text": [
      "ROC AUC for train 0.755045730725\n",
      "ROC AUC for test 0.751063741609\n"
     ]
    }
   ],
   "source": [
    "clf_lsvc.fit(X_train, y_train)\n",
    "\n",
    "y_train_score_lsvc = clf_lsvc.decision_function(X_train)\n",
    "y_test_score_lsvc = clf_lsvc.decision_function(X_test)\n",
    "\n",
    "print('ROC AUC for train', roc_auc_score(y_train, y_train_score_lsvc))\n",
    "print('ROC AUC for test', roc_auc_score(y_test, y_test_score_lsvc))"
   ]
  },
  {
   "cell_type": "markdown",
   "metadata": {},
   "source": [
    "## 3.5 SVM with the rbf kernel"
   ]
  },
  {
   "cell_type": "markdown",
   "metadata": {},
   "source": [
    "Без сетки"
   ]
  },
  {
   "cell_type": "code",
   "execution_count": 50,
   "metadata": {
    "collapsed": false
   },
   "outputs": [
    {
     "name": "stdout",
     "output_type": "stream",
     "text": [
      "ROC AUC for train 0.80969568486\n",
      "ROC AUC for test 0.745948728266\n"
     ]
    }
   ],
   "source": [
    "clf_svc = SVC(kernel='rbf', random_state=0)\n",
    "clf_svc.fit(X_train, y_train)\n",
    "\n",
    "y_train_score_svc = clf_svc.decision_function(X_train)\n",
    "y_test_score_svc = clf_svc.decision_function(X_test)\n",
    "\n",
    "print('ROC AUC for train', roc_auc_score(y_train, y_train_score_svc))\n",
    "print('ROC AUC for test', roc_auc_score(y_test, y_test_score_svc))"
   ]
  },
  {
   "cell_type": "markdown",
   "metadata": {},
   "source": [
    "probability=True"
   ]
  },
  {
   "cell_type": "code",
   "execution_count": 38,
   "metadata": {
    "collapsed": false
   },
   "outputs": [
    {
     "name": "stdout",
     "output_type": "stream",
     "text": [
      "ROC AUC for train 0.80969568486\n",
      "ROC AUC for test 0.745948728266\n"
     ]
    }
   ],
   "source": [
    "clf_svc1 = SVC(kernel='rbf', random_state=0, probability=True)\n",
    "clf_svc1.fit(X_train, y_train)\n",
    "\n",
    "y_train_score_svc = clf_svc1.decision_function(X_train)\n",
    "y_test_score_svc = clf_svc1.decision_function(X_test)\n",
    "\n",
    "print('ROC AUC for train', roc_auc_score(y_train, y_train_score_svc))\n",
    "print('ROC AUC for test', roc_auc_score(y_test, y_test_score_svc))"
   ]
  },
  {
   "cell_type": "markdown",
   "metadata": {},
   "source": [
    "NOT BAD"
   ]
  },
  {
   "cell_type": "markdown",
   "metadata": {},
   "source": [
    " Добавим сетку"
   ]
  },
  {
   "cell_type": "code",
   "execution_count": null,
   "metadata": {
    "collapsed": false
   },
   "outputs": [],
   "source": [
    "grid_svc = {'C': np.logspace(-4, 2, 7)}\n",
    "clf_svc = SVC(kernel='rbf', random_state=0, probability=True)\n",
    "clf_svc_grid = GridSearchCV(clf_svc, grid_svc, cv=skf, scoring='roc_auc', n_jobs=4)\n",
    "clf_svc_grid.fit(X_train, y_train)"
   ]
  },
  {
   "cell_type": "code",
   "execution_count": null,
   "metadata": {
    "collapsed": true
   },
   "outputs": [],
   "source": [
    "y_train_score_svc = clf_svc_grid.predict_proba(X_train)\n",
    "y_test_score_svc = clf_svc_grid.predict_proba(X_test)\n",
    "\n",
    "print('the best parameter C:', clf_svc_grid.best_params_['C'])\n",
    "print('ROC AUC for train', roc_auc_score(y_train, y_train_score_svc))\n",
    "print('ROC AUC for test', roc_auc_score(y_test, y_test_score_svc))"
   ]
  },
  {
   "cell_type": "markdown",
   "metadata": {},
   "source": [
    "## 3.6 RF"
   ]
  },
  {
   "cell_type": "code",
   "execution_count": null,
   "metadata": {
    "collapsed": true
   },
   "outputs": [],
   "source": [
    "clf_rf = RandomForestClassifier(random_state=0)\n",
    "for n in [10, 20, 30]:\n",
    "    starttime = datetime.datetime.now()\n",
    "    clf_rf.n_estimators = n\n",
    "    scores = cross_val_score(clf_rf, X_train.values, y_train.values, cv=skf, scoring='roc_auc')\n",
    "    print(n, 'estimators')\n",
    "    print('time:', datetime.datetime.now() - starttime)    \n",
    "    print('ROC AUC:', scores.mean())\n"
   ]
  },
  {
   "cell_type": "markdown",
   "metadata": {},
   "source": [
    "## ADABOOST and XGBOOST"
   ]
  },
  {
   "cell_type": "code",
   "execution_count": null,
   "metadata": {
    "collapsed": true
   },
   "outputs": [],
   "source": []
  },
  {
   "cell_type": "code",
   "execution_count": null,
   "metadata": {
    "collapsed": true
   },
   "outputs": [],
   "source": []
  },
  {
   "cell_type": "code",
   "execution_count": null,
   "metadata": {
    "collapsed": true
   },
   "outputs": [],
   "source": []
  },
  {
   "cell_type": "markdown",
   "metadata": {},
   "source": [
    "# Test data + KAGGLE"
   ]
  },
  {
   "cell_type": "markdown",
   "metadata": {},
   "source": [
    "##### Работа с NaN"
   ]
  },
  {
   "cell_type": "code",
   "execution_count": null,
   "metadata": {
    "collapsed": true
   },
   "outputs": [],
   "source": [
    "kills = get_kills(df_test)"
   ]
  },
  {
   "cell_type": "code",
   "execution_count": null,
   "metadata": {
    "collapsed": false
   },
   "outputs": [],
   "source": [
    "change_nan(df_test)"
   ]
  },
  {
   "cell_type": "markdown",
   "metadata": {},
   "source": [
    "##### Создание мешка слов из героев"
   ]
  },
  {
   "cell_type": "code",
   "execution_count": null,
   "metadata": {
    "collapsed": false
   },
   "outputs": [],
   "source": [
    "df_heroes = df[['r1_hero', 'r2_hero', 'r3_hero', 'r4_hero', 'r5_hero', \n",
    "                'd1_hero', 'd2_hero', 'd3_hero', 'd4_hero', 'd5_hero']]\n",
    "\n",
    "heroes = X[df_heroes.columns].stack()\n",
    "\n",
    "X_pick_df_1 = bag_of_words(df_test, heroes)\n",
    "# X_pick_df_1"
   ]
  },
  {
   "cell_type": "markdown",
   "metadata": {},
   "source": [
    "##### Масштабирование"
   ]
  },
  {
   "cell_type": "code",
   "execution_count": null,
   "metadata": {
    "collapsed": false
   },
   "outputs": [],
   "source": [
    "cols = [col for col in df_test.columns \n",
    "        if col not in ['r1_hero', 'r2_hero', 'r3_hero', 'r4_hero', 'r5_hero', \n",
    "                       'd1_hero', 'd2_hero', 'd3_hero', 'd4_hero', 'd5_hero',\n",
    "                       'lobby_type']]\n",
    "\n",
    "X_scaled_1 = pd.DataFrame(SS.fit_transform(df_test[cols]))\n",
    "X_scaled_1.columns = df_test[cols].columns"
   ]
  },
  {
   "cell_type": "markdown",
   "metadata": {},
   "source": [
    "##### Конкатинация"
   ]
  },
  {
   "cell_type": "code",
   "execution_count": null,
   "metadata": {
    "collapsed": false
   },
   "outputs": [],
   "source": [
    "X_fin_1 = pd.concat([X_scaled_1[cols], X_pick_df_1], axis=1)"
   ]
  },
  {
   "cell_type": "code",
   "execution_count": null,
   "metadata": {
    "collapsed": false,
    "scrolled": true
   },
   "outputs": [],
   "source": [
    "logistic = clf_lr_grid.best_estimator_.predict_proba(X_fin_1)\n",
    "result = pd.DataFrame(list(zip(df_test.index, logistic[:, 1])))\n",
    "result.columns = ['match_id', 'radiant_win']"
   ]
  },
  {
   "cell_type": "code",
   "execution_count": null,
   "metadata": {
    "collapsed": false
   },
   "outputs": [],
   "source": [
    "print('Min probability:', min(result['radiant_win']))\n",
    "print('Max probability:', max(result['radiant_win']))"
   ]
  },
  {
   "cell_type": "markdown",
   "metadata": {},
   "source": [
    "Запишем результаты для Kaggle"
   ]
  },
  {
   "cell_type": "code",
   "execution_count": 57,
   "metadata": {
    "collapsed": true
   },
   "outputs": [
    {
     "ename": "NameError",
     "evalue": "name 'result' is not defined",
     "output_type": "error",
     "traceback": [
      "\u001b[1;31m---------------------------------------------------------------------------\u001b[0m",
      "\u001b[1;31mNameError\u001b[0m                                 Traceback (most recent call last)",
      "\u001b[1;32m<ipython-input-57-dd175612a167>\u001b[0m in \u001b[0;36m<module>\u001b[1;34m()\u001b[0m\n\u001b[1;32m----> 1\u001b[1;33m \u001b[0mresult\u001b[0m\u001b[1;33m.\u001b[0m\u001b[0mto_csv\u001b[0m\u001b[1;33m(\u001b[0m\u001b[1;34m'result.csv'\u001b[0m\u001b[1;33m,\u001b[0m \u001b[0mindex\u001b[0m \u001b[1;33m=\u001b[0m \u001b[1;32mFalse\u001b[0m\u001b[1;33m)\u001b[0m\u001b[1;33m\u001b[0m\u001b[0m\n\u001b[0m",
      "\u001b[1;31mNameError\u001b[0m: name 'result' is not defined"
     ]
    }
   ],
   "source": [
    "result.to_csv('result.csv', index = False)"
   ]
  },
  {
   "cell_type": "code",
   "execution_count": null,
   "metadata": {
    "collapsed": true
   },
   "outputs": [],
   "source": []
  }
 ],
 "metadata": {
  "kernelspec": {
   "display_name": "Python 3",
   "language": "python",
   "name": "python3"
  },
  "language_info": {
   "codemirror_mode": {
    "name": "ipython",
    "version": 3
   },
   "file_extension": ".py",
   "mimetype": "text/x-python",
   "name": "python",
   "nbconvert_exporter": "python",
   "pygments_lexer": "ipython3",
   "version": "3.4.3"
  }
 },
 "nbformat": 4,
 "nbformat_minor": 0
}
